{
  "nbformat": 4,
  "nbformat_minor": 0,
  "metadata": {
    "colab": {
      "provenance": []
    },
    "kernelspec": {
      "name": "python3",
      "display_name": "Python 3"
    },
    "language_info": {
      "name": "python"
    }
  },
  "cells": [
    {
      "cell_type": "code",
      "execution_count": null,
      "metadata": {
        "id": "aIO0mnx7LP1p"
      },
      "outputs": [],
      "source": [
        "#dsa concepts\n",
        "#builin ds\n",
        "'''\n",
        "1.  array\n",
        "2.  strings\n",
        "3.  stacks\n",
        "4.  queuis\n",
        "5.  linkedlist\n",
        "6.  hashing/hashtables\n",
        "7.  sets\n",
        "8.  trees\n",
        "9.  graphs\n",
        "10. heaps/priority queue\n",
        "11. tries-prefix\n",
        "12. recursion/backtracking\n",
        "13. searching\n",
        "14. sorting\n",
        "15. greedy/brute force\n",
        "'''\n"
      ]
    },
    {
      "cell_type": "code",
      "source": [
        "#array operations\n",
        "#program to consider a list arr=[10,20,30,40] and perform insert operation\n",
        "#and deletion operatio with 50 and 25  at position 2 respectively, delete 30 and traverse the array to fetch a number 25 is present or not\n",
        "arr=[10,20,30,40]\n",
        "arr.append(50) #append\n",
        "arr.insert(2,25) #insert\n",
        "print(arr)\n",
        "arr.remove(30) #deletion\n",
        "arr.pop()\n",
        "print(arr)\n",
        "#traversal\n",
        "for i in arr:\n",
        "    print(i,end=' ')\n",
        "#searching\n",
        "print(\"\\n 25 in array?\",25 in arr)\n"
      ],
      "metadata": {
        "colab": {
          "base_uri": "https://localhost:8080/"
        },
        "id": "k3DiaJxsVCJ1",
        "outputId": "6b87c4df-ac27-478e-fa7d-39ebe370df21"
      },
      "execution_count": null,
      "outputs": [
        {
          "output_type": "stream",
          "name": "stdout",
          "text": [
            "[10, 20, 25, 30, 40, 50]\n",
            "[10, 20, 25, 40]\n",
            "10 20 25 40 \n",
            " 25 in array? True\n"
          ]
        }
      ]
    },
    {
      "cell_type": "code",
      "source": [
        "'''\n",
        "Program to check wheather the given string is palindrome or not and count the palindromic characters repeted which are repeated\n",
        "str=madam\n",
        "output:{'m':2,'a':2,'d':1)\n",
        "str=malayalam'''\n",
        "text=input(\"enter a name:\")\n",
        "if text==text[::-1]:\n",
        "    print(\"palindrome\")\n",
        "else:\n",
        "    print(\"not a palindrome\")\n",
        "freq={}\n",
        "for ch in text:\n",
        "    freq[ch]=freq.get(ch,0)+1\n",
        "print(freq)"
      ],
      "metadata": {
        "colab": {
          "base_uri": "https://localhost:8080/"
        },
        "id": "DOTHgbTIXKn3",
        "outputId": "43e67061-ce8c-41ac-8849-b882bf3c64fc"
      },
      "execution_count": null,
      "outputs": [
        {
          "output_type": "stream",
          "name": "stdout",
          "text": [
            "enter a name:malayalam\n",
            "palindrome\n",
            "{'m': 2, 'a': 4, 'l': 2, 'y': 1}\n"
          ]
        }
      ]
    },
    {
      "cell_type": "markdown",
      "source": [],
      "metadata": {
        "id": "IIWzUTpRhpIS"
      }
    },
    {
      "cell_type": "code",
      "source": [
        "'''\n",
        "searchings\n",
        "linear\n",
        "binary\n",
        "sentinel search\n",
        "fibnocci search\n",
        "interpolation search\n",
        "'''"
      ],
      "metadata": {
        "id": "TKb2kZ3ibP7e"
      },
      "execution_count": null,
      "outputs": []
    },
    {
      "cell_type": "code",
      "source": [
        "from re import I\n",
        "'''linear search : in sorted or unsotrd arrays\n",
        "[45, -9,77,32]\n",
        "1.arr of list of size n\n",
        "2. key for search element\n",
        "3.start with zero index\n",
        "4.compare arr[i]==key\n",
        "      arr[i]=key return index\n",
        "      else not (move to next index)\n",
        "5. repeat same steps till n-1\n",
        "6. if no match return -1\n",
        "'''\n",
        "def linear_search(arr,key):\n",
        "  for i in range(len(arr)):\n",
        "    if arr[i]==key:\n",
        "      return i\n",
        "      return 1\n",
        "size=int(input(\"enter the elements:\"))\n",
        "arr=[]\n",
        "print(\"enter the elements:\")\n",
        "for i in range(size):\n",
        "  num=int(input(f\"Element {i+1}:\"))\n",
        "  arr.append(num)\n",
        "key=int(input(\"enter the element to search:\"))\n",
        "result=linear_search(arr,key)\n",
        "if result != -1:\n",
        "  print(f\"\\n Element {key} found at {result}\")\n",
        "else:\n",
        "  print(f\"\\n Element {key} not fount in the array\")\n"
      ],
      "metadata": {
        "colab": {
          "base_uri": "https://localhost:8080/"
        },
        "id": "uQkWTkgDjOrj",
        "outputId": "25a0acd9-8161-4c35-9c7f-45f8148d53c5"
      },
      "execution_count": null,
      "outputs": [
        {
          "output_type": "stream",
          "name": "stdout",
          "text": [
            "enter the elements:5\n",
            "enter the elements:\n",
            "Element 1:34\n",
            "Element 2:45\n",
            "Element 3:56\n",
            "Element 4:34\n",
            "Element 5:32\n",
            "enter the element to search:56\n",
            "\n",
            " Element 56 found at 2\n"
          ]
        }
      ]
    },
    {
      "cell_type": "code",
      "source": [
        "'''set low &high 0->n-1\n",
        "condition low<=high\n",
        "mid=low+high//2\n",
        "arr[mid]==key return mid\n",
        "arr[mid<key] low mid+1\n",
        "arr[mid]>key high md-1\n",
        "not found return -1\n",
        "\n",
        "'''\n"
      ],
      "metadata": {
        "id": "8eiu8TXdmQe8"
      },
      "execution_count": null,
      "outputs": []
    },
    {
      "cell_type": "code",
      "source": [
        "def binary_search(arr,key):\n",
        "  low=0\n",
        "  high=len(arr)-1\n",
        "  while low<=high:\n",
        "    mid=(low+high)//2\n",
        "    if arr[mid]<key:\n",
        "      return mid\n",
        "    elif arr[mid]<key:\n",
        "      low=mid+1\n",
        "    else:\n",
        "      high=mid-1\n",
        "  return -1\n",
        "size=int(input(\"enter the size of array\"))\n"
      ],
      "metadata": {
        "id": "tA0GjaNJwkza"
      },
      "execution_count": null,
      "outputs": []
    },
    {
      "cell_type": "code",
      "source": [
        "import math\n",
        "def jump_search(arr,target):\n",
        "  if not arr:\n",
        "    return -1\n",
        "  n= len(arr)\n",
        "  step=int(math.sqrt(n))\n",
        "  prev=0\n",
        "  while prev<n and arr[prev]<target:\n",
        "    prev +=step\n",
        "  for i in range(max(0,prev- step), min(n, prev+1)):\n",
        "    if arr[i]==target:\n",
        "      return i\n",
        "  return -1\n",
        "arr=[1,3,5,7,9,11]\n",
        "target=7\n",
        "result=jump_search(arr,target)\n",
        "print(f\"Element {target} found at index: {result}\")\n"
      ],
      "metadata": {
        "colab": {
          "base_uri": "https://localhost:8080/"
        },
        "id": "JZBwe8JMa1tI",
        "outputId": "2db3a648-01f2-43ff-c680-e2f170946490"
      },
      "execution_count": null,
      "outputs": [
        {
          "output_type": "stream",
          "name": "stdout",
          "text": [
            "Element 7 found at index: 3\n"
          ]
        }
      ]
    },
    {
      "cell_type": "code",
      "source": [
        "'''\n",
        "\n",
        "3.check the first element\n",
        "4.find the range using expo while for boundary\n",
        "indentify within boundary\n",
        "5.range peform binary search\n",
        "6.return result\n",
        "'''"
      ],
      "metadata": {
        "colab": {
          "base_uri": "https://localhost:8080/",
          "height": 53
        },
        "id": "JZ-j1c-ohd_z",
        "outputId": "fc354038-ccac-4fab-ede1-5a94013a64f2"
      },
      "execution_count": null,
      "outputs": [
        {
          "output_type": "execute_result",
          "data": {
            "text/plain": [
              "'\\n\\n3.check the first element\\n4.find the range using expo while for boundary\\nindentify within boundary\\n5.range peform binary search\\n6.return result\\n'"
            ],
            "application/vnd.google.colaboratory.intrinsic+json": {
              "type": "string"
            }
          },
          "metadata": {},
          "execution_count": 6
        }
      ]
    },
    {
      "cell_type": "code",
      "source": [
        "def bsearch_range(arr,target,left,right):\n",
        "  while left<=right:\n",
        "    mid=(left+right)//2\n",
        "    if arr[mid]==target:\n",
        "      return mid\n",
        "    elif arr[mid]<target:\n",
        "      left=mid+1\n",
        "    else:\n",
        "      right=mid-1\n",
        "  return -1\n",
        "def expo_search(arr,target):\n",
        "  if not arr:\n",
        "    return -1\n",
        "  if arr[0]==target:\n",
        "    return 0\n",
        "  n=len(arr)\n",
        "  i=1\n",
        "  while i<n and arr[i]<=target:\n",
        "    i*=2\n",
        "  return bsearch_range(arr,target,i//2,min(i,n-1))\n",
        "arr=[2,4,6,8,10,12,14]\n",
        "target=10\n",
        "result=expo_search(arr,target)\n",
        "print(f\"Element {target} found at index:{result}\")"
      ],
      "metadata": {
        "colab": {
          "base_uri": "https://localhost:8080/"
        },
        "id": "RxfXxExjmbfJ",
        "outputId": "aad387d4-c8d4-4af3-c0b3-53ed543dd35d"
      },
      "execution_count": null,
      "outputs": [
        {
          "output_type": "stream",
          "name": "stdout",
          "text": [
            "Element 10 found at index:4\n"
          ]
        }
      ]
    },
    {
      "cell_type": "code",
      "source": [
        "def fibsearch(arr,target):\n",
        "  if not arr:\n",
        "    return -1\n",
        "  n=len(arr)\n",
        "  fib2=0\n",
        "  fib1=1\n",
        "  fib=fib2+fib1\n",
        "  while fib<n:\n",
        "    fib2=fib1\n",
        "    fib1=fib\n",
        "    fib=fib2+fib1\n",
        "  offset= -1\n",
        "  while fib>-1:\n",
        "    i=min(offset+fib2,n-1)\n",
        "    if arr[i]==target:\n",
        "      return i\n",
        "    elif arr[i]<target:\n",
        "      fib=fib1\n",
        "      fib1=fib2\n",
        "      fib2=fib-fib1\n",
        "      offset=i\n",
        "    else:\n",
        "      fib=fib2\n",
        "      fib1=fib1-fib2\n",
        "      fib2=fib-fib1\n",
        "  if fib== -1 and offset+1<n and arr[offset+1]==target:\n",
        "    return offset+1\n",
        "  return -1\n",
        "\n",
        "\n",
        "arr=[2,4,6,8,10,12]\n",
        "target= 10\n",
        "result=fibsearch(arr,target)\n",
        "print(f\"element {target} found at index:{result}\")\n"
      ],
      "metadata": {
        "colab": {
          "base_uri": "https://localhost:8080/"
        },
        "id": "Q0gP8_2eqQA6",
        "outputId": "fb1a5ffd-022a-4235-c897-ae05267eef74"
      },
      "execution_count": null,
      "outputs": [
        {
          "output_type": "stream",
          "name": "stdout",
          "text": [
            "element 10 found at index:4\n"
          ]
        }
      ]
    },
    {
      "cell_type": "code",
      "source": [
        "#sortings\n",
        "'''\n",
        "selection sort\n",
        "bubble sort\n",
        "insertion sort\n",
        "bubble\n",
        "quick\n",
        "counting\n",
        "radix\n",
        "heap\n",
        "\n",
        "slection sort\n",
        "1.start from the first element in the list/array\n",
        "2.arr[0]=min\n",
        "3.compare with all the reamaining elements to find the real lowest element\n",
        "4.perform swapping with current position\n",
        "5.repeat the same with ADDING POSITIONAL VALUES FOR EACH, min CHECK\n",
        "\n",
        "pseudo code\n",
        "for -> 0 to n-1:\n",
        "         min=i\n",
        "         for j->i+1 to n:\n",
        "              if arr[j]<(min)dsfsdsdssdsdsdsfaskfijhsdfklsdhgf;HF;SDHFKJUSDHFKXSDHFJKJKJKDJUKFDJ\n",
        "                 swap\n",
        "              min=i+1\n",
        "\n",
        "\n",
        "'''"
      ],
      "metadata": {
        "id": "5bLoWujRymti"
      },
      "execution_count": null,
      "outputs": []
    },
    {
      "cell_type": "code",
      "source": [
        "def selection_sort(arr):\n",
        "  n=len(arr)\n",
        "  for i in range(n):\n",
        "    min_index=i\n",
        "    for j in range(i+1,n):\n",
        "      if arr[j]<arr[min_index]: #if we change the <to > it write decesding order\n",
        "        min_index=j\n",
        "    arr[i],arr[min_index]=arr[min_index],arr[i]\n",
        "  return arr\n",
        "\n",
        "size=int(input(\"enter the number of elements:\"))\n",
        "arr=[]\n",
        "print(\"enter the\",size, \"of elements:\")\n",
        "for _ in range(size):\n",
        "  num=int(input())\n",
        "  arr.append(num)\n",
        "result=selection_sort(arr)\n",
        "print(\"sorted array:\",result)"
      ],
      "metadata": {
        "colab": {
          "base_uri": "https://localhost:8080/"
        },
        "id": "1RB0yGGd2zZX",
        "outputId": "ee28192b-7fb0-4e2c-be6d-da5637afbff2"
      },
      "execution_count": null,
      "outputs": [
        {
          "output_type": "stream",
          "name": "stdout",
          "text": [
            "enter the number of elements:5\n",
            "enter the 5 of elements:\n",
            "6\n",
            "2\n",
            "1\n",
            "45\n",
            "5\n",
            "sorted array: [45, 6, 5, 2, 1]\n"
          ]
        }
      ]
    },
    {
      "cell_type": "code",
      "source": [
        "#inserstion sort\n",
        "'''\n",
        "1. start from the second element (i=1)\n",
        "2.previous index valued element check(\n",
        "3.shift larger element one postion to the right\n",
        "4. insert the current element in the correct position\n",
        "5.repeat until list sorted\n",
        "pseudo code\n",
        "for i->1 to n-1:\n",
        "  key=arr[i]\n",
        "  j=i-1\n",
        "  while j>=0 and arr[j]>key\n",
        "      arr[j+1]=arr[j]\n"
      ],
      "metadata": {
        "id": "MC1kuoV47IAB"
      },
      "execution_count": null,
      "outputs": []
    },
    {
      "cell_type": "code",
      "source": [
        "3def insertion_sort(arr):\n",
        "  for i in range(1, len(arr)):\n",
        "    key=arr[i]\n",
        "    j=i-1\n",
        "    while j>=0 and arr[j]>key:\n",
        "      arr[j+1]=arr[j]\n",
        "      j-=1\n",
        "    arr[j+1]=key\n",
        "  return arr\n",
        "size=int(input(\"enter the number of elements:\"))\n",
        "arr=[]\n",
        "print(\"enter the\",size, \"of elements:\")\n",
        "for _ in range(size):\n",
        "  num=int(input())\n",
        "  arr.append(num)\n",
        "result=insertion_sort(arr)\n",
        "print(\"sorted array:\",result)"
      ],
      "metadata": {
        "colab": {
          "base_uri": "https://localhost:8080/"
        },
        "id": "Xf0ubWPvD0Pa",
        "outputId": "d1ea778a-22bc-4c4d-9724-3f3bdfef0901"
      },
      "execution_count": null,
      "outputs": [
        {
          "output_type": "stream",
          "name": "stdout",
          "text": [
            "enter the number of elements:5\n",
            "enter the 5 of elements:\n",
            "3\n",
            "6\n",
            "2\n",
            "9\n",
            "5\n",
            "sorted array: [2, 3, 5, 6, 9]\n"
          ]
        }
      ]
    },
    {
      "cell_type": "code",
      "source": [
        "def insertion_sort(arr):\n",
        "  for i in range(1, len(arr)):\n",
        "    key=arr[i]\n",
        "    j=i-1\n",
        "    while j>=0 and arr[j]>key:\n",
        "      arr[j+1]=arr[j]\n",
        "      j-=1\n",
        "    arr[j+1]=key\n",
        "  return arr\n",
        "size=int(input(\"enter the number of elements:\"))\n",
        "arr=[]\n",
        "print(\"enter the\",size, \"of elements:\")\n",
        "for _ in range(size):\n",
        "  name=int(input())\n",
        "  arr.append(num)\n",
        "result=insertion_sort(arr)\n",
        "print(\"sorted array:\",result)"
      ],
      "metadata": {
        "id": "K22P3UYXEkqi",
        "colab": {
          "base_uri": "https://localhost:8080/",
          "height": 373
        },
        "outputId": "6d002e90-a960-42ee-c71c-08d846f76191"
      },
      "execution_count": null,
      "outputs": [
        {
          "output_type": "error",
          "ename": "KeyboardInterrupt",
          "evalue": "Interrupted by user",
          "traceback": [
            "\u001b[0;31m---------------------------------------------------------------------------\u001b[0m",
            "\u001b[0;31mKeyboardInterrupt\u001b[0m                         Traceback (most recent call last)",
            "\u001b[0;32m/tmp/ipython-input-10-2811725344.py\u001b[0m in \u001b[0;36m<cell line: 0>\u001b[0;34m()\u001b[0m\n\u001b[1;32m      8\u001b[0m     \u001b[0marr\u001b[0m\u001b[0;34m[\u001b[0m\u001b[0mj\u001b[0m\u001b[0;34m+\u001b[0m\u001b[0;36m1\u001b[0m\u001b[0;34m]\u001b[0m\u001b[0;34m=\u001b[0m\u001b[0mkey\u001b[0m\u001b[0;34m\u001b[0m\u001b[0;34m\u001b[0m\u001b[0m\n\u001b[1;32m      9\u001b[0m   \u001b[0;32mreturn\u001b[0m \u001b[0marr\u001b[0m\u001b[0;34m\u001b[0m\u001b[0;34m\u001b[0m\u001b[0m\n\u001b[0;32m---> 10\u001b[0;31m \u001b[0msize\u001b[0m\u001b[0;34m=\u001b[0m\u001b[0mint\u001b[0m\u001b[0;34m(\u001b[0m\u001b[0minput\u001b[0m\u001b[0;34m(\u001b[0m\u001b[0;34m\"enter the number of elements:\"\u001b[0m\u001b[0;34m)\u001b[0m\u001b[0;34m)\u001b[0m\u001b[0;34m\u001b[0m\u001b[0;34m\u001b[0m\u001b[0m\n\u001b[0m\u001b[1;32m     11\u001b[0m \u001b[0marr\u001b[0m\u001b[0;34m=\u001b[0m\u001b[0;34m[\u001b[0m\u001b[0;34m]\u001b[0m\u001b[0;34m\u001b[0m\u001b[0;34m\u001b[0m\u001b[0m\n\u001b[1;32m     12\u001b[0m \u001b[0mprint\u001b[0m\u001b[0;34m(\u001b[0m\u001b[0;34m\"enter the\"\u001b[0m\u001b[0;34m,\u001b[0m\u001b[0msize\u001b[0m\u001b[0;34m,\u001b[0m \u001b[0;34m\"of elements:\"\u001b[0m\u001b[0;34m)\u001b[0m\u001b[0;34m\u001b[0m\u001b[0;34m\u001b[0m\u001b[0m\n",
            "\u001b[0;32m/usr/local/lib/python3.11/dist-packages/ipykernel/kernelbase.py\u001b[0m in \u001b[0;36mraw_input\u001b[0;34m(self, prompt)\u001b[0m\n\u001b[1;32m   1175\u001b[0m                 \u001b[0;34m\"raw_input was called, but this frontend does not support input requests.\"\u001b[0m\u001b[0;34m\u001b[0m\u001b[0;34m\u001b[0m\u001b[0m\n\u001b[1;32m   1176\u001b[0m             )\n\u001b[0;32m-> 1177\u001b[0;31m         return self._input_request(\n\u001b[0m\u001b[1;32m   1178\u001b[0m             \u001b[0mstr\u001b[0m\u001b[0;34m(\u001b[0m\u001b[0mprompt\u001b[0m\u001b[0;34m)\u001b[0m\u001b[0;34m,\u001b[0m\u001b[0;34m\u001b[0m\u001b[0;34m\u001b[0m\u001b[0m\n\u001b[1;32m   1179\u001b[0m             \u001b[0mself\u001b[0m\u001b[0;34m.\u001b[0m\u001b[0m_parent_ident\u001b[0m\u001b[0;34m[\u001b[0m\u001b[0;34m\"shell\"\u001b[0m\u001b[0;34m]\u001b[0m\u001b[0;34m,\u001b[0m\u001b[0;34m\u001b[0m\u001b[0;34m\u001b[0m\u001b[0m\n",
            "\u001b[0;32m/usr/local/lib/python3.11/dist-packages/ipykernel/kernelbase.py\u001b[0m in \u001b[0;36m_input_request\u001b[0;34m(self, prompt, ident, parent, password)\u001b[0m\n\u001b[1;32m   1217\u001b[0m             \u001b[0;32mexcept\u001b[0m \u001b[0mKeyboardInterrupt\u001b[0m\u001b[0;34m:\u001b[0m\u001b[0;34m\u001b[0m\u001b[0;34m\u001b[0m\u001b[0m\n\u001b[1;32m   1218\u001b[0m                 \u001b[0;31m# re-raise KeyboardInterrupt, to truncate traceback\u001b[0m\u001b[0;34m\u001b[0m\u001b[0;34m\u001b[0m\u001b[0m\n\u001b[0;32m-> 1219\u001b[0;31m                 \u001b[0;32mraise\u001b[0m \u001b[0mKeyboardInterrupt\u001b[0m\u001b[0;34m(\u001b[0m\u001b[0;34m\"Interrupted by user\"\u001b[0m\u001b[0;34m)\u001b[0m \u001b[0;32mfrom\u001b[0m \u001b[0;32mNone\u001b[0m\u001b[0;34m\u001b[0m\u001b[0;34m\u001b[0m\u001b[0m\n\u001b[0m\u001b[1;32m   1220\u001b[0m             \u001b[0;32mexcept\u001b[0m \u001b[0mException\u001b[0m\u001b[0;34m:\u001b[0m\u001b[0;34m\u001b[0m\u001b[0;34m\u001b[0m\u001b[0m\n\u001b[1;32m   1221\u001b[0m                 \u001b[0mself\u001b[0m\u001b[0;34m.\u001b[0m\u001b[0mlog\u001b[0m\u001b[0;34m.\u001b[0m\u001b[0mwarning\u001b[0m\u001b[0;34m(\u001b[0m\u001b[0;34m\"Invalid Message:\"\u001b[0m\u001b[0;34m,\u001b[0m \u001b[0mexc_info\u001b[0m\u001b[0;34m=\u001b[0m\u001b[0;32mTrue\u001b[0m\u001b[0;34m)\u001b[0m\u001b[0;34m\u001b[0m\u001b[0;34m\u001b[0m\u001b[0m\n",
            "\u001b[0;31mKeyboardInterrupt\u001b[0m: Interrupted by user"
          ]
        }
      ]
    },
    {
      "cell_type": "code",
      "source": [
        "'''\n",
        "perform insertion sort on string based on length of the word\n",
        "'''"
      ],
      "metadata": {
        "id": "lo1PSJR2Ldm8"
      },
      "execution_count": null,
      "outputs": []
    },
    {
      "cell_type": "code",
      "source": [
        "# prompt: perform insertion sort on string based on length of the word\n",
        "\n",
        "def insertion_sort_by_length(arr):\n",
        "  for i in range(1, len(arr)):\n",
        "    key = arr[i]\n",
        "    j = i - 1\n",
        "    while j >= 0 and len(arr[j]) > len(key):\n",
        "      arr[j + 1] = arr[j]\n",
        "      j -= 1\n",
        "    arr[j + 1] = key\n",
        "  return arr\n",
        "\n",
        "# Example usage:\n",
        "string_list = [\"apple\", \"banana\", \"kiwi\", \"orange\", \"grape\"]\n",
        "sorted_list = insertion_sort_by_length(string_list)\n",
        "print(\"Sorted list by length:\", sorted_list)"
      ],
      "metadata": {
        "colab": {
          "base_uri": "https://localhost:8080/"
        },
        "id": "Ef8_oCKoOyJp",
        "outputId": "5c0b438f-1157-45c1-b9ae-48d9da939ce8"
      },
      "execution_count": null,
      "outputs": [
        {
          "output_type": "stream",
          "name": "stdout",
          "text": [
            "Sorted list by length: ['kiwi', 'apple', 'grape', 'banana', 'orange']\n"
          ]
        }
      ]
    },
    {
      "cell_type": "code",
      "source": [
        "# prompt: sort the word in given string\n",
        "\n",
        "def sort_words_in_string(text):\n",
        "  \"\"\"\n",
        "  Sorts the words in a given string alphabetically.\n",
        "\n",
        "  Args:\n",
        "    text: The input string.\n",
        "\n",
        "  Returns:\n",
        "    A string with the words sorted alphabetically.\n",
        "  \"\"\"\n",
        "  words = text.split()\n",
        "  words.sort()\n",
        "  return \" \".join(words)\n",
        "\n",
        "# Example usage:\n",
        "input_string = \"this is a sample string to sort\"\n",
        "sorted_string = sort_words_in_string(input_string)\n",
        "print(\"Original string:\", input_string)\n",
        "print(\"Sorted string:\", sorted_string)\n"
      ],
      "metadata": {
        "id": "8ek_wdAKQ0da"
      },
      "execution_count": null,
      "outputs": []
    },
    {
      "cell_type": "markdown",
      "source": [
        "\n",
        "🏋️‍♂️ Weekly Muscle Training Plan\n",
        "Day 1 – Chest & Triceps\n",
        "Bench Press – 4 sets x 8-10 reps\n",
        "\n",
        "Incline Dumbbell Press – 3 sets x 10-12\n",
        "\n",
        "Cable Flys – 3 sets x 12-15\n",
        "\n",
        "Triceps Dips (weighted if possible) – 3 sets x 10\n",
        "\n",
        "Overhead Triceps Extension – 3 sets x 12\n",
        "\n",
        "Rope Pushdowns – 3 sets x 15\n",
        "\n",
        "Day 2 – Back & Biceps\n",
        "Deadlift – 4 sets x 6-8\n",
        "\n",
        "Lat Pulldown or Pull-Ups – 4 sets x 10\n",
        "\n",
        "Barbell Row – 3 sets x 10\n",
        "\n",
        "Cable Rows – 3 sets x 12\n",
        "\n",
        "Barbell Curls – 3 sets x 10\n",
        "\n",
        "Hammer Curls – 3 sets x 12\n",
        "\n",
        "Day 3 – Legs\n",
        "Squats – 4 sets x 8-10\n",
        "\n",
        "Romanian Deadlifts – 3 sets x 10\n",
        "\n",
        "Leg Press – 3 sets x 12\n",
        "\n",
        "Lunges (walking or stationary) – 3 sets x 12/leg\n",
        "\n",
        "Leg Curls – 3 sets x 15\n",
        "\n",
        "Standing Calf Raises – 4 sets x 15-20\n",
        "\n",
        "Day 4 – Shoulders & Abs\n",
        "Overhead Press (barbell or dumbbell) – 4 sets x 8\n",
        "\n",
        "Lateral Raises – 3 sets x 15\n",
        "\n",
        "Front Raises – 3 sets x 12\n",
        "\n",
        "Reverse Pec Deck / Rear Delt Flys – 3 sets x 15\n",
        "\n",
        "Hanging Leg Raises – 3 sets x 15\n",
        "\n",
        "Cable Woodchoppers – 3 sets x 15 each side\n",
        "\n",
        "Day 5 – Upper Body Power (Push Focus)\n",
        "Flat Dumbbell Press – 4 sets x 6-8\n",
        "\n",
        "Weighted Dips or Close-Grip Bench – 3 sets x 8\n",
        "\n",
        "Incline Bench Press – 3 sets x 10\n",
        "\n",
        "Skull Crushers – 3 sets x 10\n",
        "\n",
        "Push-Ups (to failure) – 3 sets\n",
        "\n",
        "Day 6 – Lower Body & Core\n",
        "Front Squats – 4 sets x 8\n",
        "\n",
        "Bulgarian Split Squats – 3 sets x 10/leg\n",
        "\n",
        "Stiff-Leg Deadlifts – 3 sets x 12\n",
        "\n",
        "Seated Calf Raises – 4 sets x 20\n",
        "\n",
        "Weighted Sit-Ups – 3 sets x 15\n",
        "\n",
        "Plank – 3 x 1 minute hold\n",
        "\n",
        "Day 7 – Active Recovery or Rest\n",
        "Option 1: Light cardio (20-30 mins) + stretching or yoga\n",
        "\n",
        "Option 2: Full rest\n",
        "\n",
        "🔁 Notes:\n",
        "Warm-up: 5-10 mins light cardio + dynamic stretches before workouts\n",
        "\n",
        "Rest Between Sets: 60–90 seconds for hypertrophy, 2–3 minutes for heavy lifts (e.g., deadlift, squat)\n",
        "\n",
        "Progressive Overload: Try to increase weight or reps weekly to ensure muscle growth\n",
        "\n",
        "Diet & Recovery: Essential to fuel gains (adequate protein, sleep, hydration)\n",
        "\n",
        "If you'd like a 3-day or 5-day split, or have specific equipment or injuries to consider, I can tailor it further. Let me know!\n",
        "\n",
        "\n",
        "\n"
      ],
      "metadata": {
        "id": "jpg3KWeiU20Y"
      }
    },
    {
      "cell_type": "code",
      "source": [
        "'''sorting\n",
        "algorthim\n",
        "1. startfro the begining of array/list\n",
        "2.compare each pair to adajacent number\n",
        "3.if latest element  is greater than adjacent perform swap\n",
        "4. repeat the process till n-1\n",
        "5.after each cycl/pass, largest unsorted element would be in correct post\n",
        "6.repeat pass till all the element are sorted\n",
        "\n",
        "pseudo:\n",
        "for j->0 to n-1:\n",
        "for j->0 to n-i-2:\n",
        "if a[j]>a[j+1]\n",
        "swap(a[j],a[j+1])'''"
      ],
      "metadata": {
        "id": "Y1REPh94S9Uy"
      },
      "execution_count": null,
      "outputs": []
    },
    {
      "cell_type": "code",
      "source": [
        "def bubble_sort(arr):\n",
        "  n=len(arr)\n",
        "  for i in range(n):\n",
        "    for j in range(0,n-i-1):\n",
        "      if arr[j]>arr[j+1]:\n",
        "        arr[j],arr[j+1]=arr[j+1],arr[j]\n",
        "size=int(input(\"enter the number of elements:\"))\n",
        "arr=[]\n",
        "print(\"enter the elements:\")\n",
        "for _ in range(size):\n",
        "  arr.append(int(input()))\n",
        "print(\"Original list:\",arr)\n",
        "bubble_sort(arr)\n",
        "print(\"bubblesorted:\",arr)\n",
        "#o(n)-best  case\n",
        "#o(n-2)- worst case\n"
      ],
      "metadata": {
        "id": "sQgbPYL4X6ga"
      },
      "execution_count": null,
      "outputs": []
    },
    {
      "cell_type": "code",
      "source": [
        "#counting sort\n",
        "'''\n",
        "if a[j]>a[j+1]\n",
        "swap(a[j],a[j+1])\n",
        "2-1-1-0-2-5-4-0-2-8-7-7-9-2-0-1-9\n",
        "'''\n",
        "class CountingSort:\n",
        "    def __init__(self, arr):\n",
        "        self.arr = arr\n",
        "    def sort(self):\n",
        "        if not self.arr:\n",
        "            return []\n",
        "        max_val = max(self.arr)\n",
        "        min_val = min(self.arr)\n",
        "        range_of_elements = max_val - min_val + 1\n",
        "        count = [0] * range_of_elements\n",
        "        for num in self.arr:\n",
        "            count[num - min_val] += 1\n",
        "        index = 0\n",
        "        for i in range(range_of_elements):\n",
        "            while count[i] > 0:\n",
        "                self.arr[index] = i + min_val\n",
        "                index += 1\n",
        "                count[i] -= 1\n",
        "\n",
        "        return self.arr\n",
        "if __name__ == \"__main__\":\n",
        "    data = [2,1,1,0,1,2,5,4,0,2,8,7,7,9,2,0,1,9]\n",
        "    sorter = CountingSort(data)\n",
        "    sorted_data = sorter.sort()\n",
        "    print(\"Sorted array:\", sorted_data)\n"
      ],
      "metadata": {
        "colab": {
          "base_uri": "https://localhost:8080/"
        },
        "id": "z5cIEWeRhRvc",
        "outputId": "50a66b63-79e9-45da-daa3-f22486a692f4"
      },
      "execution_count": null,
      "outputs": [
        {
          "output_type": "stream",
          "name": "stdout",
          "text": [
            "Sorted array: [0, 0, 0, 1, 1, 1, 1, 2, 2, 2, 2, 4, 5, 7, 7, 8, 9, 9]\n"
          ]
        }
      ]
    },
    {
      "cell_type": "code",
      "source": [
        "def csort(arr):\n",
        "  if not arr:\n",
        "    return []\n",
        "  max_val=max(arr)\n",
        "  count = [0]*(max_val+1)\n",
        "  for num in arr:\n",
        "       count[num]+=1\n",
        "\n",
        "  for i in range(1, len(count)):\n",
        "    count[i]+= count[i-1]\n",
        "  output=[0]*len(arr)\n",
        "  for num in reversed(arr):\n",
        "     output[count[num]-1]=num\n",
        "     count[num]-=1\n",
        "  for i in range(len(arr)):\n",
        "      arr[i]=output[i]\n",
        "  return arr\n",
        "arr=[4,2,2,8,3,3,1]\n",
        "print(\"Before:\",arr)\n",
        "csort(arr)\n",
        "print(\"after:\",arr)"
      ],
      "metadata": {
        "colab": {
          "base_uri": "https://localhost:8080/"
        },
        "id": "cPOKuLZgilD1",
        "outputId": "ef4c1e30-b2cb-43ed-bee5-b1031063867c"
      },
      "execution_count": null,
      "outputs": [
        {
          "output_type": "stream",
          "name": "stdout",
          "text": [
            "Before: [4, 2, 2, 8, 3, 3, 1]\n",
            "after: [1, 2, 2, 3, 3, 4, 8]\n"
          ]
        }
      ]
    },
    {
      "cell_type": "code",
      "source": [
        "#counter sort\n",
        "def csortString(s):\n",
        "  count=[0]*26\n",
        "  for char in s:\n",
        "    count[ord(char)-ord('a')]+=1\n",
        "  sorted_str=''\n",
        "  for i in range(26):\n",
        "    sorted_str+=chr(i+ord('a'))*count[i]\n",
        "  return sorted_str\n",
        "name=input(\"enter a single word\")\n",
        "sorted_name=csortString(name)\n",
        "print(\"Original string:\", name)\n",
        "print(\"Sorted string:\", sorted_name)"
      ],
      "metadata": {
        "id": "mf-kAp-wwb6W",
        "colab": {
          "base_uri": "https://localhost:8080/"
        },
        "outputId": "6c8325ee-9983-4639-fa47-6f60f4497b07"
      },
      "execution_count": null,
      "outputs": [
        {
          "output_type": "stream",
          "name": "stdout",
          "text": [
            "enter a single worddalalylama\n",
            "Original string: dalalylama\n",
            "Sorted string: aaaadlllmy\n"
          ]
        }
      ]
    },
    {
      "cell_type": "code",
      "source": [
        "'''\n",
        "radix sort:\n",
        "1. find the maximum number of determine numbert of deigits\n",
        "2. sect 10^0, for digit position\n",
        "3. increment digit poisition, w.r.t pass\n",
        "4. loop -> maxnum//exp>0\n",
        "perform count sort base on current digit (num//exp)%10\n",
        "multiply exp by 10 '''\n",
        "\n",
        "def count_sort(arr,exp):\n",
        "  n = len(arr)\n",
        "  output=[0]*n\n",
        "  count=[0]*10\n",
        "  for i in range(n):\n",
        "    index=(arr[i]//exp)%10\n",
        "    count[index]+=1\n",
        "  for i in range(1,10):\n",
        "    count[i]+=count[i-1]\n",
        "  i=n-1\n",
        "  while i >=0:\n",
        "    index=(arr[i]//exp)%10\n",
        "    output[count[index]-1]=arr[i]\n",
        "    count[index]-=1\n",
        "    i -=1\n",
        "  for i in range(n):\n",
        "    arr[i]=output[i]\n",
        "\n",
        "def radix_sort(arr):\n",
        "  max_num=max(arr)\n",
        "  exp=1\n",
        "  while max_num//exp>0:\n",
        "    count_sort(arr,exp)\n",
        "    exp *=10\n",
        "\n",
        "arr=[170,45,75,90,802,24,2,66]\n",
        "print(\"before sort\",arr)\n",
        "radix_sort(arr)\n",
        "print(\"after sort\",arr)"
      ],
      "metadata": {
        "colab": {
          "base_uri": "https://localhost:8080/"
        },
        "id": "RSKYgRESc5Va",
        "outputId": "2fcdad58-d6fa-4017-b270-81b37281e446"
      },
      "execution_count": null,
      "outputs": [
        {
          "output_type": "stream",
          "name": "stdout",
          "text": [
            "before sort [170, 45, 75, 90, 802, 24, 2, 66]\n",
            "after sort [2, 24, 45, 66, 75, 90, 170, 802]\n"
          ]
        }
      ]
    },
    {
      "cell_type": "code",
      "source": [
        "def flip(arr,k):\n",
        "  return arr[:k+1][::-1]+arr[k+1:]\n",
        "def pancake(arr):\n",
        "  n=len(arr)\n",
        "  for size in range(n,1,-1):\n",
        "    max_index=arr.index(max(arr[:size]))\n",
        "    if max_index != size-1:\n",
        "      if max_index!=0:\n",
        "        arr=flip(arr,max_index)\n",
        "        print(f\"Flip at {max_index+1}:{arr}\")\n",
        "      arr=flip(arr,size-1)\n",
        "      print(f\"Flip at {size}:{arr}\")\n",
        "  return arr\n",
        "num=list(map(int,input(\"enter numbber seprated wit space:\").split()))\n",
        "sorted_nums=pancake(num)\n",
        "print(\"sorted\",sorted_nums)"
      ],
      "metadata": {
        "id": "L34V2yH50tP1",
        "colab": {
          "base_uri": "https://localhost:8080/"
        },
        "outputId": "1712ea6f-3a9e-4686-b679-308cc2698cb8"
      },
      "execution_count": null,
      "outputs": [
        {
          "output_type": "stream",
          "name": "stdout",
          "text": [
            "enter numbber seprated wit space:22 65 36 49 32 56\n",
            "Flip at 2:[65, 22, 36, 49, 32, 56]\n",
            "Flip at 6:[56, 32, 49, 36, 22, 65]\n",
            "Flip at 5:[22, 36, 49, 32, 56, 65]\n",
            "Flip at 3:[49, 36, 22, 32, 56, 65]\n",
            "Flip at 4:[32, 22, 36, 49, 56, 65]\n",
            "Flip at 2:[22, 32, 36, 49, 56, 65]\n",
            "sorted [22, 32, 36, 49, 56, 65]\n"
          ]
        }
      ]
    },
    {
      "cell_type": "code",
      "source": [
        "file handling :\n",
        "files\n",
        "types\n",
        "path\n",
        "open/close\n",
        "reading\n",
        "writing\n",
        "appending data into the that file\n",
        "file,directory\n",
        "os module method\n",
        "reltive\n",
        "absolute\n"
      ],
      "metadata": {
        "id": "USloJ4x17x3m"
      },
      "execution_count": null,
      "outputs": []
    },
    {
      "cell_type": "markdown",
      "source": [],
      "metadata": {
        "id": "wyXPgs-LPgm2"
      }
    },
    {
      "cell_type": "markdown",
      "source": [
        "![Screenshot 2025-07-12 113613.png](data:image/png;base64,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)"
      ],
      "metadata": {
        "id": "lKcd8uKVPvhM"
      }
    },
    {
      "cell_type": "code",
      "source": [],
      "metadata": {
        "id": "wOpdBYfVP0L9"
      },
      "execution_count": null,
      "outputs": []
    }
  ]
}